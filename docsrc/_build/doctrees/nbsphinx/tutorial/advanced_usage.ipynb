{
 "cells": [
  {
   "cell_type": "markdown",
   "id": "consecutive-penguin",
   "metadata": {},
   "source": [
    "# Advanced usage "
   ]
  },
  {
   "cell_type": "markdown",
   "id": "sufficient-checklist",
   "metadata": {
    "toc": true
   },
   "source": [
    "<h1>Contents<span class=\"tocSkip\"></span></h1>\n",
    "<div class=\"toc\"><ul class=\"toc-item\"></ul></div>"
   ]
  },
  {
   "cell_type": "code",
   "execution_count": 2,
   "id": "considered-mailman",
   "metadata": {
    "ExecuteTime": {
     "end_time": "2021-09-28T09:23:54.350238Z",
     "start_time": "2021-09-28T09:23:54.346679Z"
    }
   },
   "outputs": [],
   "source": [
    "import timeit\n",
    "\n",
    "import numpy as np"
   ]
  },
  {
   "cell_type": "code",
   "execution_count": 12,
   "id": "representative-danger",
   "metadata": {
    "ExecuteTime": {
     "end_time": "2021-09-28T09:27:30.385774Z",
     "start_time": "2021-09-28T09:27:30.381046Z"
    }
   },
   "outputs": [],
   "source": [
    "def time_something(n, d, **kwargs):\n",
    "    array = np.random.uniform(size=(n, d))\n",
    "    return array**2"
   ]
  },
  {
   "cell_type": "code",
   "execution_count": 13,
   "id": "hydraulic-weather",
   "metadata": {
    "ExecuteTime": {
     "end_time": "2021-09-28T09:27:30.821422Z",
     "start_time": "2021-09-28T09:27:30.816013Z"
    }
   },
   "outputs": [],
   "source": [
    "def time_now():\n",
    "    \n",
    "    timed_func = time_something\n",
    "    timed_args = (10, 3)\n",
    "    timed_kwargs = {}\n",
    "    \n",
    "    o = timeit.timeit(\n",
    "    \"t(*args, **kwargs)\",\n",
    "    number=1,\n",
    "    globals={\n",
    "        \"t\": timed_func,\n",
    "        \"args\": timed_args,\n",
    "        \"kwargs\": timed_kwargs\n",
    "        }\n",
    "    )\n",
    "    \n",
    "    return o"
   ]
  },
  {
   "cell_type": "code",
   "execution_count": 14,
   "id": "approximate-oxygen",
   "metadata": {
    "ExecuteTime": {
     "end_time": "2021-09-28T09:27:31.422535Z",
     "start_time": "2021-09-28T09:27:31.406341Z"
    }
   },
   "outputs": [
    {
     "data": {
      "text/plain": [
       "0.00019729463383555412"
      ]
     },
     "execution_count": 14,
     "metadata": {},
     "output_type": "execute_result"
    }
   ],
   "source": [
    "time_now()"
   ]
  },
  {
   "cell_type": "code",
   "execution_count": 16,
   "id": "multiple-expression",
   "metadata": {
    "ExecuteTime": {
     "end_time": "2021-09-28T09:27:40.421556Z",
     "start_time": "2021-09-28T09:27:40.408509Z"
    }
   },
   "outputs": [
    {
     "data": {
      "text/plain": [
       "{'__name__': '__main__',\n",
       " '__doc__': 'Automatically created module for IPython interactive environment',\n",
       " '__package__': None,\n",
       " '__loader__': None,\n",
       " '__spec__': None,\n",
       " '__builtin__': <module 'builtins' (built-in)>,\n",
       " '__builtins__': <module 'builtins' (built-in)>,\n",
       " '_ih': ['',\n",
       "  'import timeit',\n",
       "  'import timeit\\n\\nimport numpy as np',\n",
       "  'def time_something(s):\\n    array = np.random.uniform(size=s)\\n    return array**2',\n",
       "  'timed_func = time_something\\ntimed_args = (10, 3)\\ntimed_kwargs = {}',\n",
       "  'def time_now():\\n    \\n    timed_func = time_something\\n    timed_args = (10, 3)\\n    timed_kwargs = {}\\n    \\n    o = timeit.timeit(\\n    \"t(*args, **kwargs)\",\\n    number=1,\\n    globals={\\n        \"t\": timed_func,\\n        \"args\": timed_args,\\n        \"kwargs\": timed_kwargs\\n        }\\n    )',\n",
       "  'def time_something(s):\\n    array = np.random.uniform(size=s)\\n    return array**2',\n",
       "  'def time_now():\\n    \\n    timed_func = time_something\\n    timed_args = (10, 3)\\n    timed_kwargs = {}\\n    \\n    o = timeit.timeit(\\n    \"t(*args, **kwargs)\",\\n    number=1,\\n    globals={\\n        \"t\": timed_func,\\n        \"args\": timed_args,\\n        \"kwargs\": timed_kwargs\\n        }\\n    )\\n    \\n    return o',\n",
       "  'time_now()',\n",
       "  'def time_something(n, d, **kwargs):\\n    array = np.random.uniform(size=s)\\n    return array**2',\n",
       "  'def time_now():\\n    \\n    timed_func = time_something\\n    timed_args = (10, 3)\\n    timed_kwargs = {}\\n    \\n    o = timeit.timeit(\\n    \"t(*args, **kwargs)\",\\n    number=1,\\n    globals={\\n        \"t\": timed_func,\\n        \"args\": timed_args,\\n        \"kwargs\": timed_kwargs\\n        }\\n    )\\n    \\n    return o',\n",
       "  'time_now()',\n",
       "  'def time_something(n, d, **kwargs):\\n    array = np.random.uniform(size=(n, d))\\n    return array**2',\n",
       "  'def time_now():\\n    \\n    timed_func = time_something\\n    timed_args = (10, 3)\\n    timed_kwargs = {}\\n    \\n    o = timeit.timeit(\\n    \"t(*args, **kwargs)\",\\n    number=1,\\n    globals={\\n        \"t\": timed_func,\\n        \"args\": timed_args,\\n        \"kwargs\": timed_kwargs\\n        }\\n    )\\n    \\n    return o',\n",
       "  'time_now()',\n",
       "  'globals',\n",
       "  'globals()'],\n",
       " '_oh': {14: 0.00019729463383555412, 15: <function globals()>},\n",
       " '_dh': ['/home/janjoswig/repo/CommonNNClustering/docsrc/tutorial'],\n",
       " 'In': ['',\n",
       "  'import timeit',\n",
       "  'import timeit\\n\\nimport numpy as np',\n",
       "  'def time_something(s):\\n    array = np.random.uniform(size=s)\\n    return array**2',\n",
       "  'timed_func = time_something\\ntimed_args = (10, 3)\\ntimed_kwargs = {}',\n",
       "  'def time_now():\\n    \\n    timed_func = time_something\\n    timed_args = (10, 3)\\n    timed_kwargs = {}\\n    \\n    o = timeit.timeit(\\n    \"t(*args, **kwargs)\",\\n    number=1,\\n    globals={\\n        \"t\": timed_func,\\n        \"args\": timed_args,\\n        \"kwargs\": timed_kwargs\\n        }\\n    )',\n",
       "  'def time_something(s):\\n    array = np.random.uniform(size=s)\\n    return array**2',\n",
       "  'def time_now():\\n    \\n    timed_func = time_something\\n    timed_args = (10, 3)\\n    timed_kwargs = {}\\n    \\n    o = timeit.timeit(\\n    \"t(*args, **kwargs)\",\\n    number=1,\\n    globals={\\n        \"t\": timed_func,\\n        \"args\": timed_args,\\n        \"kwargs\": timed_kwargs\\n        }\\n    )\\n    \\n    return o',\n",
       "  'time_now()',\n",
       "  'def time_something(n, d, **kwargs):\\n    array = np.random.uniform(size=s)\\n    return array**2',\n",
       "  'def time_now():\\n    \\n    timed_func = time_something\\n    timed_args = (10, 3)\\n    timed_kwargs = {}\\n    \\n    o = timeit.timeit(\\n    \"t(*args, **kwargs)\",\\n    number=1,\\n    globals={\\n        \"t\": timed_func,\\n        \"args\": timed_args,\\n        \"kwargs\": timed_kwargs\\n        }\\n    )\\n    \\n    return o',\n",
       "  'time_now()',\n",
       "  'def time_something(n, d, **kwargs):\\n    array = np.random.uniform(size=(n, d))\\n    return array**2',\n",
       "  'def time_now():\\n    \\n    timed_func = time_something\\n    timed_args = (10, 3)\\n    timed_kwargs = {}\\n    \\n    o = timeit.timeit(\\n    \"t(*args, **kwargs)\",\\n    number=1,\\n    globals={\\n        \"t\": timed_func,\\n        \"args\": timed_args,\\n        \"kwargs\": timed_kwargs\\n        }\\n    )\\n    \\n    return o',\n",
       "  'time_now()',\n",
       "  'globals',\n",
       "  'globals()'],\n",
       " 'Out': {14: 0.00019729463383555412, 15: <function globals()>},\n",
       " 'get_ipython': <bound method InteractiveShell.get_ipython of <ipykernel.zmqshell.ZMQInteractiveShell object at 0x7fc192fc5c70>>,\n",
       " 'exit': <IPython.core.autocall.ZMQExitAutocall at 0x7fc192fa2fd0>,\n",
       " 'quit': <IPython.core.autocall.ZMQExitAutocall at 0x7fc192fa2fd0>,\n",
       " '_': <function globals()>,\n",
       " '__': 0.00019729463383555412,\n",
       " '___': '',\n",
       " 'ip': <ipykernel.zmqshell.ZMQInteractiveShell at 0x7fc192fc5c70>,\n",
       " 'os': <module 'os' from '/home/janjoswig/.pyenv/versions/miniconda3-4.7.12/envs/md38/lib/python3.8/os.py'>,\n",
       " 'pathlib': <module 'pathlib' from '/home/janjoswig/.pyenv/versions/miniconda3-4.7.12/envs/md38/lib/python3.8/pathlib.py'>,\n",
       " 'subprocess': <module 'subprocess' from '/home/janjoswig/.pyenv/versions/miniconda3-4.7.12/envs/md38/lib/python3.8/subprocess.py'>,\n",
       " 'sys': <module 'sys' (built-in)>,\n",
       " 'warnings': <module 'warnings' from '/home/janjoswig/.pyenv/versions/miniconda3-4.7.12/envs/md38/lib/python3.8/warnings.py'>,\n",
       " 'np': <module 'numpy' from '/home/janjoswig/.pyenv/versions/miniconda3-4.7.12/envs/md38/lib/python3.8/site-packages/numpy/__init__.py'>,\n",
       " '_i': 'globals',\n",
       " '_ii': 'time_now()',\n",
       " '_iii': 'def time_now():\\n    \\n    timed_func = time_something\\n    timed_args = (10, 3)\\n    timed_kwargs = {}\\n    \\n    o = timeit.timeit(\\n    \"t(*args, **kwargs)\",\\n    number=1,\\n    globals={\\n        \"t\": timed_func,\\n        \"args\": timed_args,\\n        \"kwargs\": timed_kwargs\\n        }\\n    )\\n    \\n    return o',\n",
       " '_i1': 'import timeit',\n",
       " 'timeit': <module 'timeit' from '/home/janjoswig/.pyenv/versions/miniconda3-4.7.12/envs/md38/lib/python3.8/timeit.py'>,\n",
       " '_i2': 'import timeit\\n\\nimport numpy as np',\n",
       " '_i3': 'def time_something(s):\\n    array = np.random.uniform(size=s)\\n    return array**2',\n",
       " 'time_something': <function __main__.time_something(n, d, **kwargs)>,\n",
       " '_i4': 'timed_func = time_something\\ntimed_args = (10, 3)\\ntimed_kwargs = {}',\n",
       " 'timed_func': <function __main__.time_something(s)>,\n",
       " 'timed_args': (10, 3),\n",
       " 'timed_kwargs': {},\n",
       " '_i5': 'def time_now():\\n    \\n    timed_func = time_something\\n    timed_args = (10, 3)\\n    timed_kwargs = {}\\n    \\n    o = timeit.timeit(\\n    \"t(*args, **kwargs)\",\\n    number=1,\\n    globals={\\n        \"t\": timed_func,\\n        \"args\": timed_args,\\n        \"kwargs\": timed_kwargs\\n        }\\n    )',\n",
       " 'time_now': <function __main__.time_now()>,\n",
       " '_i6': 'def time_something(s):\\n    array = np.random.uniform(size=s)\\n    return array**2',\n",
       " '_i7': 'def time_now():\\n    \\n    timed_func = time_something\\n    timed_args = (10, 3)\\n    timed_kwargs = {}\\n    \\n    o = timeit.timeit(\\n    \"t(*args, **kwargs)\",\\n    number=1,\\n    globals={\\n        \"t\": timed_func,\\n        \"args\": timed_args,\\n        \"kwargs\": timed_kwargs\\n        }\\n    )\\n    \\n    return o',\n",
       " '_i8': 'time_now()',\n",
       " '_i9': 'def time_something(n, d, **kwargs):\\n    array = np.random.uniform(size=s)\\n    return array**2',\n",
       " '_i10': 'def time_now():\\n    \\n    timed_func = time_something\\n    timed_args = (10, 3)\\n    timed_kwargs = {}\\n    \\n    o = timeit.timeit(\\n    \"t(*args, **kwargs)\",\\n    number=1,\\n    globals={\\n        \"t\": timed_func,\\n        \"args\": timed_args,\\n        \"kwargs\": timed_kwargs\\n        }\\n    )\\n    \\n    return o',\n",
       " '_i11': 'time_now()',\n",
       " '_i12': 'def time_something(n, d, **kwargs):\\n    array = np.random.uniform(size=(n, d))\\n    return array**2',\n",
       " '_i13': 'def time_now():\\n    \\n    timed_func = time_something\\n    timed_args = (10, 3)\\n    timed_kwargs = {}\\n    \\n    o = timeit.timeit(\\n    \"t(*args, **kwargs)\",\\n    number=1,\\n    globals={\\n        \"t\": timed_func,\\n        \"args\": timed_args,\\n        \"kwargs\": timed_kwargs\\n        }\\n    )\\n    \\n    return o',\n",
       " '_i14': 'time_now()',\n",
       " '_14': 0.00019729463383555412,\n",
       " '_i15': 'globals',\n",
       " '_15': <function globals()>,\n",
       " '_i16': 'globals()'}"
      ]
     },
     "execution_count": 16,
     "metadata": {},
     "output_type": "execute_result"
    }
   ],
   "source": [
    "globals()"
   ]
  },
  {
   "cell_type": "code",
   "execution_count": 17,
   "id": "seven-stadium",
   "metadata": {
    "ExecuteTime": {
     "end_time": "2021-09-28T15:07:32.704669Z",
     "start_time": "2021-09-28T15:07:32.694135Z"
    }
   },
   "outputs": [
    {
     "data": {
      "text/plain": [
       "[('time_now', 136),\n",
       " ('time_something', 136),\n",
       " ('timed_func', 136),\n",
       " ('np', 72),\n",
       " ('timed_kwargs', 64),\n",
       " ('timed_args', 56),\n",
       " ('ip', 48)]"
      ]
     },
     "execution_count": 17,
     "metadata": {},
     "output_type": "execute_result"
    }
   ],
   "source": [
    "import sys\n",
    "\n",
    "# These are the usual ipython objects, including this one you are creating\n",
    "ipython_vars = ['In', 'Out', 'exit', 'quit', 'get_ipython', 'ipython_vars']\n",
    "\n",
    "# Get a sorted list of the objects and their sizes\n",
    "sorted([\n",
    "    (x, sys.getsizeof(globals().get(x)))\n",
    "    for x in dir()\n",
    "    if not x.startswith('_')\n",
    "    and x not in sys.modules\n",
    "    and x not in ipython_vars\n",
    "], key=lambda x: x[1], reverse=True)"
   ]
  },
  {
   "cell_type": "code",
   "execution_count": null,
   "id": "controversial-complexity",
   "metadata": {},
   "outputs": [],
   "source": []
  }
 ],
 "metadata": {
  "kernelspec": {
   "display_name": "md38",
   "language": "python",
   "name": "md38"
  },
  "language_info": {
   "codemirror_mode": {
    "name": "ipython",
    "version": 3
   },
   "file_extension": ".py",
   "mimetype": "text/x-python",
   "name": "python",
   "nbconvert_exporter": "python",
   "pygments_lexer": "ipython3",
   "version": "3.8.8"
  },
  "toc": {
   "base_numbering": 1,
   "nav_menu": {},
   "number_sections": true,
   "sideBar": true,
   "skip_h1_title": true,
   "title_cell": "Contents",
   "title_sidebar": "Contents",
   "toc_cell": true,
   "toc_position": {
    "height": "calc(100% - 180px)",
    "left": "10px",
    "top": "150px",
    "width": "304.312px"
   },
   "toc_section_display": true,
   "toc_window_display": true
  }
 },
 "nbformat": 4,
 "nbformat_minor": 5
}
