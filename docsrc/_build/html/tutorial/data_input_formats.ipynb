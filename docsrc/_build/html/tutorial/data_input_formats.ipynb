{
 "cells": [
  {
   "cell_type": "markdown",
   "metadata": {
    "toc": true
   },
   "source": [
    "<h1>Contents<span class=\"tocSkip\"></span></h1>\n",
    "<div class=\"toc\"><ul class=\"toc-item\"><li><span><a href=\"#Notebook-configuration\" data-toc-modified-id=\"Notebook-configuration-1\"><span class=\"toc-item-num\">1&nbsp;&nbsp;</span>Notebook configuration</a></span></li><li><span><a href=\"#Overview\" data-toc-modified-id=\"Overview-2\"><span class=\"toc-item-num\">2&nbsp;&nbsp;</span>Overview</a></span></li><li><span><a href=\"#The-input-data-interface\" data-toc-modified-id=\"The-input-data-interface-3\"><span class=\"toc-item-num\">3&nbsp;&nbsp;</span>The input data interface</a></span><ul class=\"toc-item\"><li><span><a href=\"#Examples\" data-toc-modified-id=\"Examples-3.1\"><span class=\"toc-item-num\">3.1&nbsp;&nbsp;</span>Examples</a></span></li></ul></li></ul></div>"
   ]
  },
  {
   "cell_type": "markdown",
   "metadata": {},
   "source": [
    "# Usage of different data input formats and clustering recipes"
   ]
  },
  {
   "cell_type": "code",
   "execution_count": 3,
   "metadata": {
    "ExecuteTime": {
     "end_time": "2021-03-23T10:14:01.982316Z",
     "start_time": "2021-03-23T10:14:01.977876Z"
    }
   },
   "outputs": [],
   "source": [
    "import sys\n",
    "\n",
    "import matplotlib as mpl\n",
    "\n",
    "from cnnclustering import cluster\n",
    "from cnnclustering import _types, _fit"
   ]
  },
  {
   "cell_type": "code",
   "execution_count": 2,
   "metadata": {
    "ExecuteTime": {
     "end_time": "2021-03-23T10:13:43.999960Z",
     "start_time": "2021-03-23T10:13:43.994859Z"
    }
   },
   "outputs": [
    {
     "name": "stdout",
     "output_type": "stream",
     "text": [
      "3.8.8 (default, Mar 11 2021, 08:58:19) \n",
      "[GCC 8.3.0]\n"
     ]
    }
   ],
   "source": [
    "print(sys.version)"
   ]
  },
  {
   "cell_type": "markdown",
   "metadata": {},
   "source": [
    "## Notebook configuration"
   ]
  },
  {
   "cell_type": "code",
   "execution_count": 5,
   "metadata": {
    "ExecuteTime": {
     "end_time": "2021-03-23T10:14:14.031335Z",
     "start_time": "2021-03-23T10:14:14.025265Z"
    }
   },
   "outputs": [],
   "source": [
    "# Matplotlib configuration\n",
    "mpl.rc_file(\n",
    "    \"../../matplotlibrc\",\n",
    "    use_default_template=False\n",
    ")"
   ]
  },
  {
   "cell_type": "code",
   "execution_count": 6,
   "metadata": {
    "ExecuteTime": {
     "end_time": "2021-03-23T10:14:17.963362Z",
     "start_time": "2021-03-23T10:14:17.957706Z"
    }
   },
   "outputs": [],
   "source": [
    "# Axis property defaults for the plots\n",
    "ax_props = {\n",
    "    \"xlabel\": None,\n",
    "    \"ylabel\": None,\n",
    "    \"xlim\": (-2.5, 2.5),\n",
    "    \"ylim\": (-2.5, 2.5),\n",
    "    \"xticks\": (),\n",
    "    \"yticks\": (),\n",
    "    \"aspect\": \"equal\"\n",
    "}\n",
    "\n",
    "# Line plot property defaults\n",
    "line_props = {\n",
    "    \"linewidth\": 0,\n",
    "    \"marker\": '.',\n",
    "}"
   ]
  },
  {
   "cell_type": "markdown",
   "metadata": {},
   "source": [
    "## Overview"
   ]
  },
  {
   "cell_type": "markdown",
   "metadata": {},
   "source": [
    "Common-nearest-neighbours clustering can be done on data in a variety of different input formats with variations in the actual execution of the procedure. A typical case for example, would be to use the coordinates of a number of points in some data-space. These coordinates may be stored in a 2-dimensional (NumPy-)array but they could be also held in a database. Maybe instead of point coordinates, we can also begin the clustering with pre-computed pairwise distances between the points. The present implementation in the `cnnclustering` package is aimed to be generic and widely agnostic about the source of input data (see also the explanation of the algorithm in <font color=\"red\">reference</font>). This is achieved by wrapping the input data structure into an `InputData` object that complies with a universal *input data interface*. Similarly, the way how neighbourhoods are calculated and represented during the clustering is not hard-coded in the implementation. It can be modified with the choice of `Neighbours` and `NeighboursGetter` objects with a matching interface. The following sections will describe the types of objects used and how to compose them in a `Clustering` object. The described components can be found in the `_types` submodule."
   ]
  },
  {
   "cell_type": "markdown",
   "metadata": {},
   "source": [
    "The individual component object may be instances of regular Python classes (inheriting from a corresponding abstract base class). Alternatively, they may be instantiated from Cython extension types."
   ]
  },
  {
   "cell_type": "markdown",
   "metadata": {},
   "source": [
    "## The input data interface"
   ]
  },
  {
   "cell_type": "markdown",
   "metadata": {},
   "source": [
    "Input data objects should expose the following (typed) attributes:\n",
    "    \n",
    "  - `n_points` (`int`): The total number of points in the data set.\n",
    "  - `n_dim` (`int`): The number of dimensions per data point.\n",
    "  - `data` (any): If applicable, a representation of the underlying data, preferably as NumPy array. Can be omitted.\n",
    "  - `meta` (`dict`): A Python dictionary storing meta-information about the data. Used keys are for example:\n",
    "    - `\"kind\"`: One of `[\"points\", \"distances\", \"neighbours\"]`, revealing the kind of input data stored.\n",
    "    - `\"edges\"`: If stored input data points are actually belonging to more than one data source, a list of integers can state the number of points per parts.\n",
    "  \n",
    "Additional object specific attributes may be present. Interaction with the input data object (e.g. from a `NeighboursGetter` should go through one of the following methods:\n",
    "\n",
    "  - `float get_component(int, int)`: Takes a point and a dimension index and returns the corresponding value (float).\n",
    "  - `int get_n_neighbours(int)`: Takes a point index and returns the total number of neighbours for this point.\n",
    "  - `int get_neighbour(int, int)`: Takes a point and a member index and returns the index of the corresponding member in the data set.\n",
    "  \n",
    "Not all of the above may be meaningful depending on the nature of the stored data. If an attribute or method is not not applicable, it should be present but return 0 for consistency.\n",
    "\n",
    "Currently supported realisations of the input data interface are:\n",
    "\n",
    "  - `InputData`: A Python abstract base class definining the input data interface.\n",
    "  - `InputDataNeighbours`: Neighbours of points stored as sequences (not type inference).\n",
    "  - `InputDataExtNeighboursMemoryview`: Neighbours of points exposed in a 0 padded 2-dimensional memoryview.\n",
    "  - `InputDataExtPointsMemoryview`: Point coordinates exposed in a 2-dimensional memoryview."
   ]
  },
  {
   "cell_type": "markdown",
   "metadata": {
    "ExecuteTime": {
     "end_time": "2021-03-23T13:55:50.507314Z",
     "start_time": "2021-03-23T13:55:50.503866Z"
    }
   },
   "source": [
    "### Examples"
   ]
  },
  {
   "cell_type": "code",
   "execution_count": 16,
   "metadata": {
    "ExecuteTime": {
     "end_time": "2021-03-23T14:04:55.067034Z",
     "start_time": "2021-03-23T14:04:55.059665Z"
    },
    "run_control": {
     "marked": true
    }
   },
   "outputs": [
    {
     "name": "stdout",
     "output_type": "stream",
     "text": [
      "data:\n",
      "[[0. 0. 0.]\n",
      " [1. 1. 1.]]\n",
      "n_points:\n",
      "2\n",
      "component (1, 2):\n",
      "1.0\n",
      "\n"
     ]
    }
   ],
   "source": [
    "original_points = np.array([[0, 0, 0],\n",
    "                            [1, 1, 1]], dtype=float)\n",
    "input_data = _types.InputDataExtPointsMemoryview(original_points)\n",
    "print(\n",
    "    f\"data:\\n{input_data.data}\\n\"\n",
    "    f\"n_points:\\n{input_data.n_points}\\n\"\n",
    "    f\"component (1, 2):\\n{input_data.get_component(1, 2)}\\n\"\n",
    ")"
   ]
  }
 ],
 "metadata": {
  "kernelspec": {
   "display_name": "cnnclustering38",
   "language": "python",
   "name": "cnnclustering38"
  },
  "language_info": {
   "codemirror_mode": {
    "name": "ipython",
    "version": 3
   },
   "file_extension": ".py",
   "mimetype": "text/x-python",
   "name": "python",
   "nbconvert_exporter": "python",
   "pygments_lexer": "ipython3",
   "version": "3.8.8"
  },
  "toc": {
   "base_numbering": 1,
   "nav_menu": {},
   "number_sections": true,
   "sideBar": true,
   "skip_h1_title": true,
   "title_cell": "Contents",
   "title_sidebar": "Contents",
   "toc_cell": true,
   "toc_position": {
    "height": "calc(100% - 180px)",
    "left": "10px",
    "top": "150px",
    "width": "164.988px"
   },
   "toc_section_display": true,
   "toc_window_display": true
  },
  "varInspector": {
   "cols": {
    "lenName": 16,
    "lenType": 16,
    "lenVar": 40
   },
   "kernels_config": {
    "python": {
     "delete_cmd_postfix": "",
     "delete_cmd_prefix": "del ",
     "library": "var_list.py",
     "varRefreshCmd": "print(var_dic_list())"
    },
    "r": {
     "delete_cmd_postfix": ") ",
     "delete_cmd_prefix": "rm(",
     "library": "var_list.r",
     "varRefreshCmd": "cat(var_dic_list()) "
    }
   },
   "types_to_exclude": [
    "module",
    "function",
    "builtin_function_or_method",
    "instance",
    "_Feature"
   ],
   "window_display": false
  }
 },
 "nbformat": 4,
 "nbformat_minor": 2
}
